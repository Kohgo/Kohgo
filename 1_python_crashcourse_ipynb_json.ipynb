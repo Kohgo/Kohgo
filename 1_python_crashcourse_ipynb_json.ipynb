{
  "nbformat": 4,
  "nbformat_minor": 0,
  "metadata": {
    "colab": {
      "provenance": [],
      "machine_shape": "hm",
      "gpuType": "T4",
      "include_colab_link": true
    },
    "kernelspec": {
      "name": "python3",
      "display_name": "Python 3"
    },
    "language_info": {
      "name": "python"
    },
    "accelerator": "GPU"
  },
  "cells": [
    {
      "cell_type": "markdown",
      "metadata": {
        "id": "view-in-github",
        "colab_type": "text"
      },
      "source": [
        "<a href=\"https://colab.research.google.com/github/Kohgo/Kohgo/blob/main/1_python_crashcourse_ipynb_json.ipynb\" target=\"_parent\"><img src=\"https://colab.research.google.com/assets/colab-badge.svg\" alt=\"Open In Colab\"/></a>"
      ]
    },
    {
      "cell_type": "markdown",
      "source": [
        "## 1. Python Crash Course\n",
        "\n",
        "\n",
        "* You can select the lines of code and press (Ctrl + /) to comment or uncomment your selected lines of code.\n",
        "\n",
        "* If you are a Mac user, you can use (Command + /) for commenting out, and if you want to uncomment again, select the lines and then Command + /.\n"
      ],
      "metadata": {
        "id": "IpvE9Y2nA4Jm"
      }
    },
    {
      "cell_type": "markdown",
      "source": [
        "Test"
      ],
      "metadata": {
        "id": "vBSwFCkmxGAW"
      }
    },
    {
      "cell_type": "code",
      "source": [],
      "metadata": {
        "id": "QSkFItQgxMFW"
      },
      "execution_count": null,
      "outputs": []
    },
    {
      "cell_type": "markdown",
      "source": [
        "### 1.1. Assignment"
      ],
      "metadata": {
        "id": "Weoc4Ak3VQoK"
      }
    },
    {
      "cell_type": "code",
      "execution_count": null,
      "metadata": {
        "id": "KahkuLOhAxps"
      },
      "outputs": [],
      "source": [
        "%matplotlib inline\n",
        "import matplotlib.pyplot as plt\n",
        "import pandas as pd\n",
        "import numpy as np"
      ]
    },
    {
      "cell_type": "markdown",
      "source": [],
      "metadata": {
        "id": "M85u0ca3wxRY"
      }
    },
    {
      "cell_type": "code",
      "source": [
        "print(\"Hello\") #control+enter"
      ],
      "metadata": {
        "colab": {
          "base_uri": "https://localhost:8080/"
        },
        "id": "cmEfw5o1w39N",
        "outputId": "f2887ad4-39e6-455f-93ce-f471cdde7a39"
      },
      "execution_count": null,
      "outputs": [
        {
          "output_type": "stream",
          "name": "stdout",
          "text": [
            "Hello\n"
          ]
        }
      ]
    },
    {
      "cell_type": "code",
      "source": [
        "#-----------0. Comment--------#\n",
        "#comment...\n",
        "# Numbers\n",
        "value = 123.1\n",
        "print(value)\n",
        "value = 10\n",
        "print(value)"
      ],
      "metadata": {
        "colab": {
          "base_uri": "https://localhost:8080/"
        },
        "id": "8vZI0jZTA_zb",
        "outputId": "e05e04a7-4867-4620-ba18-462b4d8a803b"
      },
      "execution_count": null,
      "outputs": [
        {
          "output_type": "stream",
          "name": "stdout",
          "text": [
            "123.1\n",
            "10\n"
          ]
        }
      ]
    },
    {
      "cell_type": "code",
      "source": [
        "# Boolean\n",
        "a = True\n",
        "b = False\n",
        "print(a, b)"
      ],
      "metadata": {
        "id": "LPZxCbEqCFsV",
        "outputId": "cd96b88b-50ba-4358-a780-93d4d9aecc55",
        "colab": {
          "base_uri": "https://localhost:8080/"
        }
      },
      "execution_count": null,
      "outputs": [
        {
          "output_type": "stream",
          "name": "stdout",
          "text": [
            "True False\n"
          ]
        }
      ]
    },
    {
      "cell_type": "code",
      "source": [
        "# Multiple Assignment\n",
        "#int, float\n",
        "a, b, c = 1, 2, 3.5\n",
        "print(a, b, c)"
      ],
      "metadata": {
        "id": "wDY5CoGLCL11",
        "outputId": "14c98196-a8f9-47b1-caef-41e2f3887ba6",
        "colab": {
          "base_uri": "https://localhost:8080/"
        }
      },
      "execution_count": null,
      "outputs": [
        {
          "output_type": "stream",
          "name": "stdout",
          "text": [
            "1 2 3.5\n"
          ]
        }
      ]
    },
    {
      "cell_type": "code",
      "source": [
        "# No value\n",
        "a = None\n",
        "print(a)"
      ],
      "metadata": {
        "id": "jItlK1F6CL4Z",
        "outputId": "4edfcd78-745a-4f37-ba90-4351e90946e4",
        "colab": {
          "base_uri": "https://localhost:8080/"
        }
      },
      "execution_count": null,
      "outputs": [
        {
          "output_type": "stream",
          "name": "stdout",
          "text": [
            "None\n"
          ]
        }
      ]
    },
    {
      "cell_type": "code",
      "source": [
        "# Strings\n",
        "data = \"hello world\"\n",
        "print(data[1])\n",
        "print(len(data))\n",
        "print(data)\n",
        "\n",
        "firstname = 'tip'\n",
        "surname = 'poo'\n",
        "print(firstname+' '+surname)\n",
        "print(f\"{firstname} {surname}\")\n",
        "print(\"tip is a \\\"girl\\\"\") #backslash\n",
        "print('tip is a \"girl\"') #backslash\n",
        "print(\"tip\\nis\\na\\ngirl\")   #\\n = enter, \\t\n",
        "\n",
        "\n",
        "# \"\"\"\n",
        "# Hi\n",
        "# \"Tip\"\n",
        "# Welcome to \"Python\"\n",
        "# \"\"\"\n",
        "print(\"Hi\\n\\\"Tip\\\"\\nWelcome to \\\"Python\\\"\")"
      ],
      "metadata": {
        "colab": {
          "base_uri": "https://localhost:8080/"
        },
        "id": "6xyLjK8OCPqa",
        "outputId": "5997d2a1-9c72-462a-9ce7-89e101516d36"
      },
      "execution_count": null,
      "outputs": [
        {
          "output_type": "stream",
          "name": "stdout",
          "text": [
            "e\n",
            "11\n",
            "hello world\n",
            "tip poo\n",
            "tip poo\n",
            "tip is a \"girl\"\n",
            "tip is a \"girl\"\n",
            "tip\n",
            "is\n",
            "a\n",
            "girl\n",
            "Hi\n",
            "\"Tip\"\n",
            "Welcome to \"Python\"\n"
          ]
        }
      ]
    },
    {
      "cell_type": "markdown",
      "source": [
        "### 1.2. Flow Control\n",
        "\n"
      ],
      "metadata": {
        "id": "lR94G165K9T5"
      }
    },
    {
      "cell_type": "code",
      "source": [
        "#If-Then-Else Conditional\n",
        "value = 500\n",
        "\n",
        "if value == 99:\n",
        "    print('That is fast')\n",
        "elif value > 200:\n",
        "    print('That is too fast')\n",
        "else:\n",
        "    print('That is safe')"
      ],
      "metadata": {
        "colab": {
          "base_uri": "https://localhost:8080/"
        },
        "id": "iM21tzX4HvC-",
        "outputId": "cab9e9c2-c0bb-44e1-c254-d4901d0444a5"
      },
      "execution_count": null,
      "outputs": [
        {
          "output_type": "stream",
          "name": "stdout",
          "text": [
            "That is too fast\n"
          ]
        }
      ]
    },
    {
      "cell_type": "code",
      "source": [
        "# For-Loop\n",
        "for i in range(10):  #ตัวปิด  #9. i=2\n",
        "  print(i, end=\" \") #0 1 2\n",
        "\n",
        "print()\n",
        "for i in range(1,10):  #ตัวเริ่ม ตัวปิด 1, 2, 3, ..9\n",
        "  print(i, end=\" \")\n",
        "print()\n",
        "for i in range(1,10,2): #1 3 5 7 9\n",
        "  print(i, end=\" \")"
      ],
      "metadata": {
        "colab": {
          "base_uri": "https://localhost:8080/"
        },
        "id": "EBBePGd4MFYc",
        "outputId": "0f647bad-c3aa-48f2-8efd-e1063cfc9b92"
      },
      "execution_count": null,
      "outputs": [
        {
          "output_type": "stream",
          "name": "stdout",
          "text": [
            "0 1 2 3 4 5 6 7 8 9 \n",
            "1 2 3 4 5 6 7 8 9 \n",
            "1 3 5 7 9 "
          ]
        }
      ]
    },
    {
      "cell_type": "code",
      "source": [
        "# While-Loop\n",
        "i=0\n",
        "while i < 10:\n",
        "  print(i)\n",
        "  i += 1"
      ],
      "metadata": {
        "colab": {
          "base_uri": "https://localhost:8080/"
        },
        "id": "wa8DOthbMeiK",
        "outputId": "60954bb9-4301-495d-bf59-8e27dc88fd75"
      },
      "execution_count": null,
      "outputs": [
        {
          "output_type": "stream",
          "name": "stdout",
          "text": [
            "0\n",
            "1\n",
            "2\n",
            "3\n",
            "4\n",
            "5\n",
            "6\n",
            "7\n",
            "8\n",
            "9\n"
          ]
        }
      ]
    },
    {
      "cell_type": "markdown",
      "source": [
        "### 1.3. Data Structures"
      ],
      "metadata": {
        "id": "r5lLs-dGRuso"
      }
    },
    {
      "cell_type": "code",
      "source": [
        "#Tuples are read-only collections of items.\n",
        "a = (1, 2, 3)\n",
        "print(a)\n",
        "print(a[0])"
      ],
      "metadata": {
        "colab": {
          "base_uri": "https://localhost:8080/"
        },
        "id": "FLrXPUVXRvXg",
        "outputId": "ef7f324b-0a7f-4d17-e193-32e3a1fccdae"
      },
      "execution_count": null,
      "outputs": [
        {
          "output_type": "stream",
          "name": "stdout",
          "text": [
            "(1, 2, 3)\n",
            "1\n"
          ]
        }
      ]
    },
    {
      "cell_type": "code",
      "source": [
        "#Dictionaries are mappings of names to values, like key-value pairs.\n",
        "#Note the use of the curly bracket and colon notations when defining the dictionary.\n",
        "mydict = {'a': 1, 'b': 2, 'c': 3}\n",
        "print(\"A value: %d\" % mydict['a'])\n",
        "mydict['a'] = 11\n",
        "print(\"A value: %d\" % mydict['a'])\n",
        "print(\"Keys: %s\" % mydict.keys())\n",
        "print(\"Values: %s\" % mydict.values())\n",
        "for key in mydict.keys():\n",
        "  print(mydict[key])"
      ],
      "metadata": {
        "colab": {
          "base_uri": "https://localhost:8080/"
        },
        "id": "xvNGQ08HRzpn",
        "outputId": "0cfee089-23ae-4476-ec09-9aac8321515a"
      },
      "execution_count": null,
      "outputs": [
        {
          "output_type": "stream",
          "name": "stdout",
          "text": [
            "A value: 1\n",
            "A value: 11\n",
            "Keys: dict_keys(['a', 'b', 'c'])\n",
            "Values: dict_values([11, 2, 3])\n",
            "11\n",
            "2\n",
            "3\n"
          ]
        }
      ]
    },
    {
      "cell_type": "code",
      "source": [
        "#Lists use the square bracket notation and can be indexed using array notation.\n",
        "mylist = [1, 2, 3]\n",
        "test = [1,2,3,4]\n",
        "print(\"Zeroth Value: %d\" % mylist[0])\n",
        "mylist.append(4)\n",
        "print(\"List Length: %d\" % len(mylist))\n",
        "for value in mylist:\n",
        "  print(value)"
      ],
      "metadata": {
        "colab": {
          "base_uri": "https://localhost:8080/"
        },
        "id": "PDqruEm7RzsX",
        "outputId": "de2545aa-711b-4553-c2b3-c4fdbf508b38"
      },
      "execution_count": null,
      "outputs": [
        {
          "output_type": "stream",
          "name": "stdout",
          "text": [
            "Zeroth Value: 1\n",
            "List Length: 4\n",
            "1\n",
            "2\n",
            "3\n",
            "4\n"
          ]
        }
      ]
    },
    {
      "cell_type": "markdown",
      "source": [
        "### 1.4. Functions"
      ],
      "metadata": {
        "id": "3R4crBRuUTaD"
      }
    },
    {
      "cell_type": "code",
      "source": [
        "# Sum function\n",
        "def mysum(x, y):\n",
        "  return x + y\n",
        "# Test sum function\n",
        "result = mysum(1, 3)\n",
        "print(result)"
      ],
      "metadata": {
        "colab": {
          "base_uri": "https://localhost:8080/"
        },
        "id": "om7LSl1nUMac",
        "outputId": "99eec4c4-2e29-4470-b1cb-22b8e6c8085f"
      },
      "execution_count": null,
      "outputs": [
        {
          "output_type": "stream",
          "name": "stdout",
          "text": [
            "4\n"
          ]
        }
      ]
    },
    {
      "cell_type": "code",
      "source": [
        "def divide(num1, num2): #order is the matter --> if num2, num1\n",
        "   return num1/num2\n",
        "\n",
        "# def divide(num2, num1): #order is the matter --> if num2, num1\n",
        "#     return num1/num2\n",
        "\n",
        "print(divide(2,5))\n",
        "print(divide(5,2))\n"
      ],
      "metadata": {
        "colab": {
          "base_uri": "https://localhost:8080/"
        },
        "id": "Sgw7cLJXUdRp",
        "outputId": "adc601a0-2f93-4d10-cd87-5fbfd9a4d419"
      },
      "execution_count": null,
      "outputs": [
        {
          "output_type": "stream",
          "name": "stdout",
          "text": [
            "0.4\n",
            "2.5\n"
          ]
        }
      ]
    }
  ]
}